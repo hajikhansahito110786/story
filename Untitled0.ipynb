{
  "nbformat": 4,
  "nbformat_minor": 0,
  "metadata": {
    "colab": {
      "provenance": [],
      "authorship_tag": "ABX9TyO4tZv5oZ1tgGze2AXK33Im",
      "include_colab_link": true
    },
    "kernelspec": {
      "name": "python3",
      "display_name": "Python 3"
    },
    "language_info": {
      "name": "python"
    }
  },
  "cells": [
    {
      "cell_type": "markdown",
      "metadata": {
        "id": "view-in-github",
        "colab_type": "text"
      },
      "source": [
        "<a href=\"https://colab.research.google.com/github/hajikhansahito110786/story/blob/main/Untitled0.ipynb\" target=\"_parent\"><img src=\"https://colab.research.google.com/assets/colab-badge.svg\" alt=\"Open In Colab\"/></a>"
      ]
    },
    {
      "cell_type": "code",
      "execution_count": null,
      "metadata": {
        "id": "ZsvnqypKWjMB"
      },
      "outputs": [],
      "source": []
    },
    {
      "cell_type": "code",
      "source": [
        "name:str=str(input(\"name please\"))\n",
        "city:str=str(input(\"city please\"))\n",
        "verb:str=str(input(\"verb doing please\"))\n",
        "animal:str=str(input(\"animal please\"))\n",
        "adjective=str(input(\"adjective please\"))\n",
        "\n",
        "print(f\"One day {name} went to {city} zoo where he saw {adjective} {animal} was {verb} \")\n",
        "\n",
        "\n",
        "\n"
      ],
      "metadata": {
        "colab": {
          "base_uri": "https://localhost:8080/"
        },
        "id": "AKHcvhUrWnfr",
        "outputId": "a5e63d23-414a-4e93-b2a7-ff2035c8288a"
      },
      "execution_count": 1,
      "outputs": [
        {
          "output_type": "stream",
          "name": "stdout",
          "text": [
            "name pleasehk\n",
            "city pleasekhi\n",
            "verb doing pleasewalking\n",
            "animal pleasehk\n",
            "adjective pleasefast\n",
            "One day hk went to khi zoo where he saw fast hk was walking \n"
          ]
        }
      ]
    }
  ]
}